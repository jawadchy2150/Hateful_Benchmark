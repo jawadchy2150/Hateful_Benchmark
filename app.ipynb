{
 "cells": [
  {
   "cell_type": "markdown",
   "id": "f836d6b8",
   "metadata": {},
   "source": [
    "# Project Overview\n",
    "\n",
    "This notebook implements an advanced benchmark of four distinct Vision Language Models (VLMs) on the Hateful Memes Challenge Dataset (HMCD). This version loads the dataset from local files, uses a balanced dataset sample, and evaluates models from four different families to capture classification."
   ]
  },
  {
   "cell_type": "code",
   "execution_count": null,
   "id": "f739c15c",
   "metadata": {},
   "outputs": [],
   "source": [
    "pip install ollama"
   ]
  },
  {
   "cell_type": "code",
   "execution_count": null,
   "id": "569055ee",
   "metadata": {},
   "outputs": [],
   "source": [
    "pip install pandas"
   ]
  },
  {
   "cell_type": "code",
   "execution_count": null,
   "id": "00e74200",
   "metadata": {},
   "outputs": [],
   "source": [
    "pip install scikit-learn\n"
   ]
  },
  {
   "cell_type": "code",
   "execution_count": 185,
   "id": "f6f8235f",
   "metadata": {},
   "outputs": [],
   "source": [
    "import ollama\n",
    "import pandas as pd\n",
    "import os"
   ]
  },
  {
   "cell_type": "markdown",
   "id": "56be0f59",
   "metadata": {},
   "source": [
    "## Step 1: Load Dataset from Local Files & Prepare Sample"
   ]
  },
  {
   "cell_type": "code",
   "execution_count": 199,
   "id": "4fdeb5ba",
   "metadata": {},
   "outputs": [],
   "source": [
    "DATASET_FOLDER = 'data' \n",
    "ANNOTATION_FILE = os.path.join(DATASET_FOLDER, 'dev.jsonl')\n",
    "IMG_DIR = os.path.join(DATASET_FOLDER)"
   ]
  },
  {
   "cell_type": "code",
   "execution_count": 200,
   "id": "71ad0a62",
   "metadata": {},
   "outputs": [
    {
     "data": {
      "text/plain": [
       "'data'"
      ]
     },
     "execution_count": 200,
     "metadata": {},
     "output_type": "execute_result"
    }
   ],
   "source": [
    "IMG_DIR"
   ]
  },
  {
   "cell_type": "code",
   "execution_count": 202,
   "id": "f9c0cd93",
   "metadata": {},
   "outputs": [
    {
     "name": "stdout",
     "output_type": "stream",
     "text": [
      "Local dataset loaded successfully.\n",
      "0      data\\img/08291.png\n",
      "1      data\\img/46971.png\n",
      "2      data\\img/03745.png\n",
      "3      data\\img/83745.png\n",
      "4      data\\img/80243.png\n",
      "              ...        \n",
      "495    data\\img/83675.png\n",
      "496    data\\img/37198.png\n",
      "497    data\\img/48670.png\n",
      "498    data\\img/09863.png\n",
      "499    data\\img/97320.png\n",
      "Name: img_path, Length: 500, dtype: object\n"
     ]
    }
   ],
   "source": [
    "if not os.path.exists(ANNOTATION_FILE):\n",
    "    print(f\"Error'\")\n",
    "else:\n",
    "    df = pd.read_json(ANNOTATION_FILE, lines=True)\n",
    "\n",
    "    # Create the full path to each image file\n",
    "    df['img_path'] = df['img'].apply(lambda x: os.path.join(IMG_DIR, x))\n",
    "\n",
    "    print(\"Local dataset loaded successfully.\")\n",
    "    print(df['img_path'])\n"
   ]
  },
  {
   "cell_type": "markdown",
   "id": "39640549",
   "metadata": {},
   "source": [
    "### Balanced Sampling Strategy"
   ]
  },
  {
   "cell_type": "code",
   "execution_count": 203,
   "id": "e9442261",
   "metadata": {},
   "outputs": [],
   "source": [
    "df['label_text'] = df['label'].map({0: 'non-hateful', 1: 'hateful'})"
   ]
  },
  {
   "cell_type": "code",
   "execution_count": 204,
   "id": "4a5aceea",
   "metadata": {},
   "outputs": [],
   "source": [
    "hateful_df = df[df['label'] == 1].sample(n=250, random_state=42)"
   ]
  },
  {
   "cell_type": "code",
   "execution_count": 205,
   "id": "e97b0c93",
   "metadata": {},
   "outputs": [],
   "source": [
    "non_hateful_df = df[df['label'] == 0].sample(n=250, random_state=42)"
   ]
  },
  {
   "cell_type": "code",
   "execution_count": 206,
   "id": "87a660b9",
   "metadata": {},
   "outputs": [],
   "source": [
    "df_sample = pd.concat([hateful_df, non_hateful_df])\n",
    "df_sample = df_sample.sample(frac=1, random_state=42).reset_index(drop=True)\n",
    "df_sample['img_path'] = df_sample['img_path'].apply(os.path.normpath) # Normalize all image paths to match your OS"
   ]
  },
  {
   "cell_type": "code",
   "execution_count": 207,
   "id": "0ce05edb",
   "metadata": {},
   "outputs": [
    {
     "data": {
      "text/html": [
       "<div>\n",
       "<style scoped>\n",
       "    .dataframe tbody tr th:only-of-type {\n",
       "        vertical-align: middle;\n",
       "    }\n",
       "\n",
       "    .dataframe tbody tr th {\n",
       "        vertical-align: top;\n",
       "    }\n",
       "\n",
       "    .dataframe thead th {\n",
       "        text-align: right;\n",
       "    }\n",
       "</style>\n",
       "<table border=\"1\" class=\"dataframe\">\n",
       "  <thead>\n",
       "    <tr style=\"text-align: right;\">\n",
       "      <th></th>\n",
       "      <th>id</th>\n",
       "      <th>img</th>\n",
       "      <th>label</th>\n",
       "      <th>text</th>\n",
       "      <th>img_path</th>\n",
       "      <th>label_text</th>\n",
       "    </tr>\n",
       "  </thead>\n",
       "  <tbody>\n",
       "    <tr>\n",
       "      <th>0</th>\n",
       "      <td>93541</td>\n",
       "      <td>img/93541.png</td>\n",
       "      <td>0</td>\n",
       "      <td>the jihad squad</td>\n",
       "      <td>data\\img\\93541.png</td>\n",
       "      <td>non-hateful</td>\n",
       "    </tr>\n",
       "    <tr>\n",
       "      <th>1</th>\n",
       "      <td>83946</td>\n",
       "      <td>img/83946.png</td>\n",
       "      <td>1</td>\n",
       "      <td>when a white kid shoots up the school the same...</td>\n",
       "      <td>data\\img\\83946.png</td>\n",
       "      <td>hateful</td>\n",
       "    </tr>\n",
       "    <tr>\n",
       "      <th>2</th>\n",
       "      <td>62703</td>\n",
       "      <td>img/62703.png</td>\n",
       "      <td>0</td>\n",
       "      <td>they shot the wrong gorilla</td>\n",
       "      <td>data\\img\\62703.png</td>\n",
       "      <td>non-hateful</td>\n",
       "    </tr>\n",
       "    <tr>\n",
       "      <th>3</th>\n",
       "      <td>85761</td>\n",
       "      <td>img/85761.png</td>\n",
       "      <td>1</td>\n",
       "      <td>no wonder why the pipes are not working</td>\n",
       "      <td>data\\img\\85761.png</td>\n",
       "      <td>hateful</td>\n",
       "    </tr>\n",
       "    <tr>\n",
       "      <th>4</th>\n",
       "      <td>39578</td>\n",
       "      <td>img/39578.png</td>\n",
       "      <td>1</td>\n",
       "      <td>one of the bullets they dug out of a victim fr...</td>\n",
       "      <td>data\\img\\39578.png</td>\n",
       "      <td>hateful</td>\n",
       "    </tr>\n",
       "  </tbody>\n",
       "</table>\n",
       "</div>"
      ],
      "text/plain": [
       "      id            img  label  \\\n",
       "0  93541  img/93541.png      0   \n",
       "1  83946  img/83946.png      1   \n",
       "2  62703  img/62703.png      0   \n",
       "3  85761  img/85761.png      1   \n",
       "4  39578  img/39578.png      1   \n",
       "\n",
       "                                                text            img_path  \\\n",
       "0                                    the jihad squad  data\\img\\93541.png   \n",
       "1  when a white kid shoots up the school the same...  data\\img\\83946.png   \n",
       "2                        they shot the wrong gorilla  data\\img\\62703.png   \n",
       "3            no wonder why the pipes are not working  data\\img\\85761.png   \n",
       "4  one of the bullets they dug out of a victim fr...  data\\img\\39578.png   \n",
       "\n",
       "    label_text  \n",
       "0  non-hateful  \n",
       "1      hateful  \n",
       "2  non-hateful  \n",
       "3      hateful  \n",
       "4      hateful  "
      ]
     },
     "execution_count": 207,
     "metadata": {},
     "output_type": "execute_result"
    }
   ],
   "source": [
    "df_sample.head()"
   ]
  },
  {
   "cell_type": "code",
   "execution_count": 208,
   "id": "2b52ff40",
   "metadata": {},
   "outputs": [
    {
     "name": "stdout",
     "output_type": "stream",
     "text": [
      "Created a balanced test set with 500 samples.\n",
      "Label distribution:\n",
      "label_text\n",
      "non-hateful    250\n",
      "hateful        250\n",
      "Name: count, dtype: int64\n"
     ]
    }
   ],
   "source": [
    "print(f\"Created a balanced test set with {len(df_sample)} samples.\")\n",
    "print(\"Label distribution:\")\n",
    "print(df_sample['label_text'].value_counts())"
   ]
  },
  {
   "cell_type": "code",
   "execution_count": 209,
   "id": "1c5cf95d",
   "metadata": {},
   "outputs": [
    {
     "name": "stdout",
     "output_type": "stream",
     "text": [
      "All image paths are valid.\n"
     ]
    }
   ],
   "source": [
    "import os\n",
    "\n",
    "# Check which files don't exist\n",
    "missing_files = df_sample[~df_sample['img_path'].apply(os.path.exists)]\n",
    "\n",
    "if not missing_files.empty:\n",
    "    print(\"Missing image files:\")\n",
    "    display(missing_files[['id', 'img_path']])\n",
    "else:\n",
    "    print(\"All image paths are valid.\")"
   ]
  },
  {
   "cell_type": "markdown",
   "id": "b5120da3",
   "metadata": {},
   "source": [
    "## Step 2: Playing with the Prompt"
   ]
  },
  {
   "cell_type": "code",
   "execution_count": 210,
   "id": "9ff1d083",
   "metadata": {},
   "outputs": [],
   "source": [
    "def create_zero_shot_prompt():\n",
    "    \"\"\"Asks for a direct classification.\"\"\"\n",
    "    return (\n",
    "        \"You are an expert content moderation analyst. Classify the provided meme as either 'hateful' or 'non-hateful'.\\n\"\n",
    "        \"Respond with only a single word: `hateful` or `non-hateful`.\"\n",
    "    )"
   ]
  },
  {
   "cell_type": "code",
   "execution_count": 211,
   "id": "64cb6bfc",
   "metadata": {},
   "outputs": [],
   "source": [
    "def create_cot_prompt():\n",
    "    \"\"\"Guide the model to reason step-by-step before classifying.\"\"\"\n",
    "    return (\n",
    "        \"Perform the following steps:\\n\"\n",
    "        \"1. Briefly describe the visual elements in the image.\\n\"\n",
    "        \"2. Analyze the text on the meme.\\n\"\n",
    "        \"3. Consider the combined meaning of the visual elements and the text.\\n\\n\"\n",
    "        \"Explain your step-by-step analysis and classify the meme as 'hateful' or 'non-hateful'. \"\n",
    "        \"Conclude your analysis with a single word classification.\"\n",
    "    )\n"
   ]
  },
  {
   "cell_type": "code",
   "execution_count": 212,
   "id": "a35f5819",
   "metadata": {},
   "outputs": [],
   "source": [
    "prompt_template = create_zero_shot_prompt()\n",
    "# prompt_template = create_cot_prompt()"
   ]
  },
  {
   "cell_type": "code",
   "execution_count": 213,
   "id": "93c4b781",
   "metadata": {},
   "outputs": [],
   "source": [
    "def parse_response(response_text):\n",
    "    cleaned_text = response_text.lower().strip().replace('.', '')\n",
    "    if 'non-hateful' in cleaned_text:\n",
    "        return 'non-hateful'\n",
    "    elif 'hateful' in cleaned_text:\n",
    "        return 'hateful'\n",
    "    else:\n",
    "        return 'error'"
   ]
  },
  {
   "cell_type": "code",
   "execution_count": 214,
   "id": "b3c39d8b",
   "metadata": {},
   "outputs": [
    {
     "name": "stdout",
     "output_type": "stream",
     "text": [
      "Ollama server is running\n"
     ]
    }
   ],
   "source": [
    "#Test Ollama Server\n",
    "\n",
    "import requests\n",
    "\n",
    "try:\n",
    "    r = requests.get(\"http://localhost:11434\")\n",
    "    print(\"Ollama server is running\")\n",
    "except Exception as e:\n",
    "    print(\"Ollama is not running:\", e)"
   ]
  },
  {
   "cell_type": "code",
   "execution_count": 144,
   "metadata": {},
   "outputs": [
    {
     "name": "stdout",
     "output_type": "stream",
     "text": [
      " In the image, a person is seen skydiving from a Cessna aircraft. The individual, clad in a black helmet, has their arms outstretched as if embracing the thrill of the jump. The plane, painted in white and blue, is captured mid-flight against a backdrop of a clear blue sky. On the right side of the image, there's a text that humorously suggests that when the dive instructor starts yelling in Arabic, it's time to start crying for your life. The person appears to be having an enjoyable and adrenaline-filled experience, as indicated by their wide grin. \n"
     ]
    }
   ],
   "source": [
    "# def test_image_only(image_path):\n",
    "#     import base64, requests\n",
    "\n",
    "#     with open(image_path, \"rb\") as img:\n",
    "#         image_data = base64.b64encode(img.read()).decode(\"utf-8\")\n",
    "\n",
    "#     response = requests.post(\n",
    "#         \"http://localhost:11434/api/generate\",\n",
    "#         json={\n",
    "#             \"model\": \"llava:7b\",\n",
    "#             \"prompt\": \"Describe everything in this image.\",\n",
    "#             \"images\": [image_data],\n",
    "#             \"stream\": False\n",
    "#         }\n",
    "#     )\n",
    "#     print(response.json()[\"response\"])\n",
    "\n",
    "# test_image_only(\"data\\img\\98714.png\")"
   ]
  },
  {
   "cell_type": "code",
   "execution_count": 154,
   "id": "a61c8adb",
   "metadata": {},
   "outputs": [
    {
     "name": "stdout",
     "output_type": "stream",
     "text": [
      "✅ Response:  Non-hateful \n"
     ]
    }
   ],
   "source": [
    "# Test for single image\n",
    "\n",
    "# import base64\n",
    "# import requests\n",
    "\n",
    "# model_name = \"llava:7b\"\n",
    "# image_path = \"data\\img\\\\28017.png\"  # Use an actual file path here\n",
    "# prompt = \"What is in this image?\"\n",
    "\n",
    "# def test_llava(model_name, image_path, prompt):\n",
    "#     try:\n",
    "#         with open(image_path, \"rb\") as f:\n",
    "#             image_data = base64.b64encode(f.read()).decode(\"utf-8\")\n",
    "\n",
    "#         response = requests.post(\n",
    "#             \"http://localhost:11434/api/generate\",\n",
    "#             json={\n",
    "#                 \"model\": model_name,\n",
    "#                 \"prompt\": prompt,\n",
    "#                 \"images\": [image_data],\n",
    "#                 \"stream\": False\n",
    "#             }\n",
    "#         )\n",
    "\n",
    "#         print(\"Response:\", response.json()[\"response\"])\n",
    "#     except Exception as e:\n",
    "#         print(\"Error:\", e)\n",
    "\n",
    "# test_llava(model_name, image_path, prompt_template)"
   ]
  },
  {
   "cell_type": "code",
   "execution_count": 215,
   "id": "fb553057",
   "metadata": {},
   "outputs": [],
   "source": [
    "import requests\n",
    "import base64\n",
    "\n",
    "def classify_with_ollama(model_name, image_path, prompt):\n",
    "    try:\n",
    "        # Read and encode the image\n",
    "        with open(image_path, \"rb\") as f:\n",
    "            image_data = base64.b64encode(f.read()).decode(\"utf-8\")\n",
    "\n",
    "        # Send HTTP request to Ollama API\n",
    "        response = requests.post(\n",
    "            \"http://localhost:11434/api/generate\",\n",
    "            json={\n",
    "                \"model\": model_name,\n",
    "                \"prompt\": prompt,\n",
    "                \"images\": [image_data],\n",
    "                \"stream\": False\n",
    "            }\n",
    "        )\n",
    "\n",
    "        result = response.json()[\"response\"]\n",
    "\n",
    "        # You can still use parse_response if needed:\n",
    "        return parse_response(result)\n",
    "\n",
    "    except Exception as e:\n",
    "        return f\"error: {e}\""
   ]
  },
  {
   "cell_type": "code",
   "execution_count": 107,
   "id": "42344692",
   "metadata": {},
   "outputs": [],
   "source": [
    "# def classify_with_ollama(model_name, image_path, prompt):\n",
    "#     try:\n",
    "#         response = ollama.chat(model=model_name, messages=[{'role': 'user', 'content': prompt, 'images': [image_path]}])\n",
    "#         return parse_response(response['message']['content'])\n",
    "#     except Exception as e:\n",
    "#         return 'error'"
   ]
  },
  {
   "cell_type": "code",
   "execution_count": 111,
   "id": "aa6d49c9",
   "metadata": {},
   "outputs": [],
   "source": [
    "# import base64"
   ]
  },
  {
   "cell_type": "code",
   "execution_count": null,
   "id": "0729dcb8",
   "metadata": {},
   "outputs": [],
   "source": [
    "# def image_to_base64(image_path):\n",
    "#     with open(image_path, \"rb\") as image_file:\n",
    "#         return base64.b64encode(image_file.read()).decode('utf-8')"
   ]
  },
  {
   "cell_type": "code",
   "execution_count": 216,
   "id": "f90f6c7d",
   "metadata": {},
   "outputs": [],
   "source": [
    "from tqdm import tqdm"
   ]
  },
  {
   "cell_type": "code",
   "execution_count": 217,
   "id": "a9036d2e",
   "metadata": {},
   "outputs": [
    {
     "name": "stdout",
     "output_type": "stream",
     "text": [
      "\n",
      "--- Benchmarking model: llava:7b ---\n"
     ]
    },
    {
     "name": "stderr",
     "output_type": "stream",
     "text": [
      "Processing llava:7b: 100%|██████████| 500/500 [2:33:09<00:00, 18.38s/it]    \n"
     ]
    },
    {
     "name": "stdout",
     "output_type": "stream",
     "text": [
      "\n",
      "--- Benchmark Complete! ---\n"
     ]
    },
    {
     "data": {
      "text/html": [
       "<div>\n",
       "<style scoped>\n",
       "    .dataframe tbody tr th:only-of-type {\n",
       "        vertical-align: middle;\n",
       "    }\n",
       "\n",
       "    .dataframe tbody tr th {\n",
       "        vertical-align: top;\n",
       "    }\n",
       "\n",
       "    .dataframe thead th {\n",
       "        text-align: right;\n",
       "    }\n",
       "</style>\n",
       "<table border=\"1\" class=\"dataframe\">\n",
       "  <thead>\n",
       "    <tr style=\"text-align: right;\">\n",
       "      <th></th>\n",
       "      <th>id</th>\n",
       "      <th>label_text</th>\n",
       "      <th>prediction_llava:7b</th>\n",
       "    </tr>\n",
       "  </thead>\n",
       "  <tbody>\n",
       "    <tr>\n",
       "      <th>0</th>\n",
       "      <td>93541</td>\n",
       "      <td>non-hateful</td>\n",
       "      <td>hateful</td>\n",
       "    </tr>\n",
       "    <tr>\n",
       "      <th>1</th>\n",
       "      <td>83946</td>\n",
       "      <td>hateful</td>\n",
       "      <td>error</td>\n",
       "    </tr>\n",
       "    <tr>\n",
       "      <th>2</th>\n",
       "      <td>62703</td>\n",
       "      <td>non-hateful</td>\n",
       "      <td>hateful</td>\n",
       "    </tr>\n",
       "    <tr>\n",
       "      <th>3</th>\n",
       "      <td>85761</td>\n",
       "      <td>hateful</td>\n",
       "      <td>hateful</td>\n",
       "    </tr>\n",
       "    <tr>\n",
       "      <th>4</th>\n",
       "      <td>39578</td>\n",
       "      <td>hateful</td>\n",
       "      <td>hateful</td>\n",
       "    </tr>\n",
       "  </tbody>\n",
       "</table>\n",
       "</div>"
      ],
      "text/plain": [
       "      id   label_text prediction_llava:7b\n",
       "0  93541  non-hateful             hateful\n",
       "1  83946      hateful               error\n",
       "2  62703  non-hateful             hateful\n",
       "3  85761      hateful             hateful\n",
       "4  39578      hateful             hateful"
      ]
     },
     "metadata": {},
     "output_type": "display_data"
    }
   ],
   "source": [
    "models_to_test = {\n",
    "    'llava:7b': classify_with_ollama\n",
    "}\n",
    "results_data = {model: [] for model in models_to_test}\n",
    "\n",
    "for model_name, classification_func in models_to_test.items():\n",
    "    print(f\"\\n--- Benchmarking model: {model_name} ---\")\n",
    "    predictions = []\n",
    "    for index, row in tqdm(df_sample.iterrows(), total=len(df_sample), desc=f\"Processing {model_name}\"):\n",
    "        if 'ollama' in classification_func.__name__:\n",
    "            pred = classification_func(model_name, row['img_path'], prompt_template)\n",
    "        else:\n",
    "            pred = classification_func(row['img_path'], prompt_template) ## for gemini or claude\n",
    "        predictions.append(pred)\n",
    "    df_sample[f'prediction_{model_name}'] = predictions\n",
    "\n",
    "print(\"\\n--- Benchmark Complete! ---\")\n",
    "display(df_sample[['id', 'label_text'] + [f'prediction_{model}' for model in models_to_test.keys()]].head())\n",
    "\n"
   ]
  },
  {
   "cell_type": "code",
   "execution_count": 218,
   "id": "b88a7764",
   "metadata": {},
   "outputs": [],
   "source": [
    "ground_truth = df_sample['label_text']"
   ]
  },
  {
   "cell_type": "code",
   "execution_count": null,
   "id": "926e12f5",
   "metadata": {},
   "outputs": [],
   "source": [
    "from sklearn.metrics import classification_report\n",
    "\n",
    "for model_name in models_to_test.keys():\n",
    "    print(f\"\\n--- Evaluation Report for: {model_name} ---\")\n",
    "    model_predictions = df_sample[f'prediction_{model_name}']\n",
    "    report = classification_report(ground_truth, model_predictions, labels=['hateful', 'non-hateful'], zero_division=0)\n",
    "    print(report)"
   ]
  },
  {
   "cell_type": "code",
   "execution_count": 219,
   "id": "a69f2d95",
   "metadata": {},
   "outputs": [
    {
     "data": {
      "text/html": [
       "<div>\n",
       "<style scoped>\n",
       "    .dataframe tbody tr th:only-of-type {\n",
       "        vertical-align: middle;\n",
       "    }\n",
       "\n",
       "    .dataframe tbody tr th {\n",
       "        vertical-align: top;\n",
       "    }\n",
       "\n",
       "    .dataframe thead th {\n",
       "        text-align: right;\n",
       "    }\n",
       "</style>\n",
       "<table border=\"1\" class=\"dataframe\">\n",
       "  <thead>\n",
       "    <tr style=\"text-align: right;\">\n",
       "      <th></th>\n",
       "      <th>label_text</th>\n",
       "      <th>prediction_llava:7b</th>\n",
       "    </tr>\n",
       "  </thead>\n",
       "  <tbody>\n",
       "    <tr>\n",
       "      <th>0</th>\n",
       "      <td>non-hateful</td>\n",
       "      <td>hateful</td>\n",
       "    </tr>\n",
       "    <tr>\n",
       "      <th>1</th>\n",
       "      <td>hateful</td>\n",
       "      <td>error</td>\n",
       "    </tr>\n",
       "    <tr>\n",
       "      <th>2</th>\n",
       "      <td>non-hateful</td>\n",
       "      <td>hateful</td>\n",
       "    </tr>\n",
       "    <tr>\n",
       "      <th>3</th>\n",
       "      <td>hateful</td>\n",
       "      <td>hateful</td>\n",
       "    </tr>\n",
       "    <tr>\n",
       "      <th>4</th>\n",
       "      <td>hateful</td>\n",
       "      <td>hateful</td>\n",
       "    </tr>\n",
       "    <tr>\n",
       "      <th>...</th>\n",
       "      <td>...</td>\n",
       "      <td>...</td>\n",
       "    </tr>\n",
       "    <tr>\n",
       "      <th>495</th>\n",
       "      <td>hateful</td>\n",
       "      <td>non-hateful</td>\n",
       "    </tr>\n",
       "    <tr>\n",
       "      <th>496</th>\n",
       "      <td>non-hateful</td>\n",
       "      <td>error</td>\n",
       "    </tr>\n",
       "    <tr>\n",
       "      <th>497</th>\n",
       "      <td>non-hateful</td>\n",
       "      <td>non-hateful</td>\n",
       "    </tr>\n",
       "    <tr>\n",
       "      <th>498</th>\n",
       "      <td>non-hateful</td>\n",
       "      <td>non-hateful</td>\n",
       "    </tr>\n",
       "    <tr>\n",
       "      <th>499</th>\n",
       "      <td>hateful</td>\n",
       "      <td>hateful</td>\n",
       "    </tr>\n",
       "  </tbody>\n",
       "</table>\n",
       "<p>500 rows × 2 columns</p>\n",
       "</div>"
      ],
      "text/plain": [
       "      label_text prediction_llava:7b\n",
       "0    non-hateful             hateful\n",
       "1        hateful               error\n",
       "2    non-hateful             hateful\n",
       "3        hateful             hateful\n",
       "4        hateful             hateful\n",
       "..           ...                 ...\n",
       "495      hateful         non-hateful\n",
       "496  non-hateful               error\n",
       "497  non-hateful         non-hateful\n",
       "498  non-hateful         non-hateful\n",
       "499      hateful             hateful\n",
       "\n",
       "[500 rows x 2 columns]"
      ]
     },
     "metadata": {},
     "output_type": "display_data"
    }
   ],
   "source": [
    "columns_to_show = ['label_text'] + [col for col in df_sample.columns if 'prediction' in col]\n",
    "full_results_df = df_sample[columns_to_show]\n",
    "display(full_results_df)\n"
   ]
  },
  {
   "cell_type": "code",
   "execution_count": 220,
   "id": "69940cff",
   "metadata": {},
   "outputs": [],
   "source": [
    "full_results_df.to_csv('full_benchmark_results.csv', index=False)"
   ]
  }
 ],
 "metadata": {
  "kernelspec": {
   "display_name": ".venv",
   "language": "python",
   "name": "python3"
  },
  "language_info": {
   "codemirror_mode": {
    "name": "ipython",
    "version": 3
   },
   "file_extension": ".py",
   "mimetype": "text/x-python",
   "name": "python",
   "nbconvert_exporter": "python",
   "pygments_lexer": "ipython3",
   "version": "3.9.4"
  }
 },
 "nbformat": 4,
 "nbformat_minor": 5
}
