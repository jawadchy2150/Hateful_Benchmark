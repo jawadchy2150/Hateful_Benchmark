{
 "cells": [
  {
   "cell_type": "markdown",
   "id": "f836d6b8",
   "metadata": {},
   "source": [
    "# Project Overview\n",
    "\n",
    "This notebook implements an advanced benchmark of four distinct Vision Language Models (VLMs) on the Hateful Memes Challenge Dataset (HMCD). This version loads the dataset from local files, uses a balanced dataset sample, and evaluates models from four different families to capture classification."
   ]
  },
  {
   "cell_type": "code",
   "execution_count": 51,
   "id": "f6f8235f",
   "metadata": {},
   "outputs": [],
   "source": [
    "import ollama\n",
    "import pandas as pd\n",
    "import os\n",
    "from PIL import Image\n",
    "import matplotlib.pyplot as plt\n"
   ]
  },
  {
   "cell_type": "markdown",
   "id": "56be0f59",
   "metadata": {},
   "source": [
    "## Step 1: Load Dataset from Local Files & Prepare Sample"
   ]
  },
  {
   "cell_type": "code",
   "execution_count": 52,
   "id": "4fdeb5ba",
   "metadata": {},
   "outputs": [],
   "source": [
    "DATASET_FOLDER = 'data' \n",
    "ANNOTATION_FILE = os.path.join(DATASET_FOLDER, 'dev.jsonl')\n",
    "IMG_DIR = os.path.join(DATASET_FOLDER, 'img')"
   ]
  },
  {
   "cell_type": "code",
   "execution_count": 53,
   "id": "f9c0cd93",
   "metadata": {},
   "outputs": [
    {
     "name": "stdout",
     "output_type": "stream",
     "text": [
      "Local dataset loaded successfully.\n"
     ]
    }
   ],
   "source": [
    "if not os.path.exists(ANNOTATION_FILE):\n",
    "    print(f\"Error'\")\n",
    "else:\n",
    "    df = pd.read_json(ANNOTATION_FILE, lines=True)\n",
    "    # Create the full path to each image file\n",
    "    df['img_path'] = df['img'].apply(lambda x: os.path.join(IMG_DIR, x))\n",
    "    print(\"Local dataset loaded successfully.\")\n"
   ]
  },
  {
   "cell_type": "markdown",
   "id": "39640549",
   "metadata": {},
   "source": [
    "### Balanced Sampling Strategy"
   ]
  },
  {
   "cell_type": "code",
   "execution_count": 54,
   "id": "e9442261",
   "metadata": {},
   "outputs": [],
   "source": [
    "df['label_text'] = df['label'].map({0: 'non-hateful', 1: 'hateful'})"
   ]
  },
  {
   "cell_type": "code",
   "execution_count": 55,
   "id": "4a5aceea",
   "metadata": {},
   "outputs": [],
   "source": [
    "hateful_df = df[df['label'] == 1].sample(n=125, random_state=42)"
   ]
  },
  {
   "cell_type": "code",
   "execution_count": 56,
   "id": "e97b0c93",
   "metadata": {},
   "outputs": [],
   "source": [
    "non_hateful_df = df[df['label'] == 0].sample(n=125, random_state=42)"
   ]
  },
  {
   "cell_type": "code",
   "execution_count": 57,
   "id": "87a660b9",
   "metadata": {},
   "outputs": [],
   "source": [
    "df_sample = pd.concat([hateful_df, non_hateful_df])\n",
    "df_sample = df_sample.sample(frac=1, random_state=42).reset_index(drop=True)"
   ]
  },
  {
   "cell_type": "code",
   "execution_count": 58,
   "id": "0ce05edb",
   "metadata": {},
   "outputs": [
    {
     "data": {
      "text/html": [
       "<div>\n",
       "<style scoped>\n",
       "    .dataframe tbody tr th:only-of-type {\n",
       "        vertical-align: middle;\n",
       "    }\n",
       "\n",
       "    .dataframe tbody tr th {\n",
       "        vertical-align: top;\n",
       "    }\n",
       "\n",
       "    .dataframe thead th {\n",
       "        text-align: right;\n",
       "    }\n",
       "</style>\n",
       "<table border=\"1\" class=\"dataframe\">\n",
       "  <thead>\n",
       "    <tr style=\"text-align: right;\">\n",
       "      <th></th>\n",
       "      <th>id</th>\n",
       "      <th>img</th>\n",
       "      <th>label</th>\n",
       "      <th>text</th>\n",
       "      <th>img_path</th>\n",
       "      <th>label_text</th>\n",
       "    </tr>\n",
       "  </thead>\n",
       "  <tbody>\n",
       "    <tr>\n",
       "      <th>0</th>\n",
       "      <td>49360</td>\n",
       "      <td>img/49360.png</td>\n",
       "      <td>0</td>\n",
       "      <td>who wants ice cream me me me</td>\n",
       "      <td>data/img/img/49360.png</td>\n",
       "      <td>non-hateful</td>\n",
       "    </tr>\n",
       "    <tr>\n",
       "      <th>1</th>\n",
       "      <td>7198</td>\n",
       "      <td>img/07198.png</td>\n",
       "      <td>1</td>\n",
       "      <td>islam is a religion of peace stop criticizing ...</td>\n",
       "      <td>data/img/img/07198.png</td>\n",
       "      <td>hateful</td>\n",
       "    </tr>\n",
       "    <tr>\n",
       "      <th>2</th>\n",
       "      <td>92738</td>\n",
       "      <td>img/92738.png</td>\n",
       "      <td>1</td>\n",
       "      <td>they are the best in basketball because they c...</td>\n",
       "      <td>data/img/img/92738.png</td>\n",
       "      <td>hateful</td>\n",
       "    </tr>\n",
       "    <tr>\n",
       "      <th>3</th>\n",
       "      <td>50261</td>\n",
       "      <td>img/50261.png</td>\n",
       "      <td>1</td>\n",
       "      <td>haters will say it's photoshop</td>\n",
       "      <td>data/img/img/50261.png</td>\n",
       "      <td>hateful</td>\n",
       "    </tr>\n",
       "    <tr>\n",
       "      <th>4</th>\n",
       "      <td>43175</td>\n",
       "      <td>img/43175.png</td>\n",
       "      <td>1</td>\n",
       "      <td>when was the last time you saw so many mentall...</td>\n",
       "      <td>data/img/img/43175.png</td>\n",
       "      <td>hateful</td>\n",
       "    </tr>\n",
       "  </tbody>\n",
       "</table>\n",
       "</div>"
      ],
      "text/plain": [
       "      id            img  label  \\\n",
       "0  49360  img/49360.png      0   \n",
       "1   7198  img/07198.png      1   \n",
       "2  92738  img/92738.png      1   \n",
       "3  50261  img/50261.png      1   \n",
       "4  43175  img/43175.png      1   \n",
       "\n",
       "                                                text                img_path  \\\n",
       "0                       who wants ice cream me me me  data/img/img/49360.png   \n",
       "1  islam is a religion of peace stop criticizing ...  data/img/img/07198.png   \n",
       "2  they are the best in basketball because they c...  data/img/img/92738.png   \n",
       "3                     haters will say it's photoshop  data/img/img/50261.png   \n",
       "4  when was the last time you saw so many mentall...  data/img/img/43175.png   \n",
       "\n",
       "    label_text  \n",
       "0  non-hateful  \n",
       "1      hateful  \n",
       "2      hateful  \n",
       "3      hateful  \n",
       "4      hateful  "
      ]
     },
     "execution_count": 58,
     "metadata": {},
     "output_type": "execute_result"
    }
   ],
   "source": [
    "df_sample.head()"
   ]
  },
  {
   "cell_type": "code",
   "execution_count": 59,
   "id": "2b52ff40",
   "metadata": {},
   "outputs": [
    {
     "name": "stdout",
     "output_type": "stream",
     "text": [
      "Created a balanced test set with 250 samples.\n",
      "Label distribution:\n",
      "label_text\n",
      "non-hateful    125\n",
      "hateful        125\n",
      "Name: count, dtype: int64\n"
     ]
    }
   ],
   "source": [
    "print(f\"Created a balanced test set with {len(df_sample)} samples.\")\n",
    "print(\"Label distribution:\")\n",
    "print(df_sample['label_text'].value_counts())"
   ]
  },
  {
   "cell_type": "markdown",
   "id": "b5120da3",
   "metadata": {},
   "source": [
    "## Step 2: Playing with the Prompt"
   ]
  },
  {
   "cell_type": "code",
   "execution_count": 60,
   "id": "9ff1d083",
   "metadata": {},
   "outputs": [],
   "source": [
    "def create_zero_shot_prompt():\n",
    "    \"\"\"Asks for a direct classification.\"\"\"\n",
    "    return (\n",
    "        \"You are an expert content moderation analyst. Classify the provided meme as either 'hateful' or 'non-hateful'.\\n\"\n",
    "        \"Respond with only a single word: `hateful` or `non-hateful`.\"\n",
    "    )"
   ]
  },
  {
   "cell_type": "code",
   "execution_count": 61,
   "id": "64cb6bfc",
   "metadata": {},
   "outputs": [],
   "source": [
    "def create_cot_prompt():\n",
    "    \"\"\"Guide the model to reason step-by-step before classifying.\"\"\"\n",
    "    return (\n",
    "        \"Perform the following steps:\\n\"\n",
    "        \"1. Briefly describe the visual elements in the image.\\n\"\n",
    "        \"2. Analyze the text on the meme.\\n\"\n",
    "        \"3. Consider the combined meaning of the visual elements and the text.\\n\\n\"\n",
    "        \"Based on your step-by-step analysis, classify the meme as 'hateful' or 'non-hateful'. \"\n",
    "        \"Your final response must be only the single word classification.\"\n",
    "    )\n"
   ]
  },
  {
   "cell_type": "code",
   "execution_count": 62,
   "id": "a35f5819",
   "metadata": {},
   "outputs": [],
   "source": [
    "prompt_template = create_zero_shot_prompt()\n",
    "# prompt_template = create_cot_prompt()"
   ]
  },
  {
   "cell_type": "code",
   "execution_count": 63,
   "id": "93c4b781",
   "metadata": {},
   "outputs": [],
   "source": [
    "def parse_response(response_text):\n",
    "    \"\"\"Extracts the single-word classification from the model's response.\"\"\"\n",
    "    cleaned_text = response_text.lower().strip().replace('.', '')\n",
    "    if 'non-hateful' in cleaned_text:\n",
    "        return 'non-hateful'\n",
    "    elif 'hateful' in cleaned_text:\n",
    "        return 'hateful'\n",
    "    else:\n",
    "        return 'error'"
   ]
  },
  {
   "cell_type": "code",
   "execution_count": 64,
   "id": "42344692",
   "metadata": {},
   "outputs": [],
   "source": [
    "def classify_with_ollama(model_name, image_path, prompt):\n",
    "    try:\n",
    "        response = ollama.chat(model=model_name, messages=[{'role': 'user', 'content': prompt, 'images': [image_path]}])\n",
    "        return parse_response(response['message']['content'])\n",
    "    except Exception as e:\n",
    "        return 'error'"
   ]
  },
  {
   "cell_type": "code",
   "execution_count": 65,
   "id": "aa6d49c9",
   "metadata": {},
   "outputs": [],
   "source": [
    "import base64"
   ]
  },
  {
   "cell_type": "code",
   "execution_count": 66,
   "id": "0729dcb8",
   "metadata": {},
   "outputs": [],
   "source": [
    "def image_to_base64(image_path):\n",
    "    with open(image_path, \"rb\") as image_file:\n",
    "        return base64.b64encode(image_file.read()).decode('utf-8')"
   ]
  },
  {
   "cell_type": "code",
   "execution_count": 67,
   "id": "f90f6c7d",
   "metadata": {},
   "outputs": [],
   "source": [
    "from tqdm import tqdm"
   ]
  },
  {
   "cell_type": "code",
   "execution_count": 68,
   "id": "a9036d2e",
   "metadata": {},
   "outputs": [
    {
     "name": "stdout",
     "output_type": "stream",
     "text": [
      "\n",
      "--- Benchmarking model: llava:7b ---\n"
     ]
    },
    {
     "name": "stderr",
     "output_type": "stream",
     "text": [
      "Processing llava:7b: 100%|██████████| 250/250 [46:59<00:00, 11.28s/it]"
     ]
    },
    {
     "name": "stdout",
     "output_type": "stream",
     "text": [
      "\n",
      "--- Benchmark Complete! ---\n"
     ]
    },
    {
     "name": "stderr",
     "output_type": "stream",
     "text": [
      "\n"
     ]
    },
    {
     "data": {
      "text/html": [
       "<div>\n",
       "<style scoped>\n",
       "    .dataframe tbody tr th:only-of-type {\n",
       "        vertical-align: middle;\n",
       "    }\n",
       "\n",
       "    .dataframe tbody tr th {\n",
       "        vertical-align: top;\n",
       "    }\n",
       "\n",
       "    .dataframe thead th {\n",
       "        text-align: right;\n",
       "    }\n",
       "</style>\n",
       "<table border=\"1\" class=\"dataframe\">\n",
       "  <thead>\n",
       "    <tr style=\"text-align: right;\">\n",
       "      <th></th>\n",
       "      <th>id</th>\n",
       "      <th>label_text</th>\n",
       "      <th>prediction_llava:7b</th>\n",
       "    </tr>\n",
       "  </thead>\n",
       "  <tbody>\n",
       "    <tr>\n",
       "      <th>0</th>\n",
       "      <td>49360</td>\n",
       "      <td>non-hateful</td>\n",
       "      <td>non-hateful</td>\n",
       "    </tr>\n",
       "    <tr>\n",
       "      <th>1</th>\n",
       "      <td>7198</td>\n",
       "      <td>hateful</td>\n",
       "      <td>hateful</td>\n",
       "    </tr>\n",
       "    <tr>\n",
       "      <th>2</th>\n",
       "      <td>92738</td>\n",
       "      <td>hateful</td>\n",
       "      <td>error</td>\n",
       "    </tr>\n",
       "    <tr>\n",
       "      <th>3</th>\n",
       "      <td>50261</td>\n",
       "      <td>hateful</td>\n",
       "      <td>error</td>\n",
       "    </tr>\n",
       "    <tr>\n",
       "      <th>4</th>\n",
       "      <td>43175</td>\n",
       "      <td>hateful</td>\n",
       "      <td>non-hateful</td>\n",
       "    </tr>\n",
       "  </tbody>\n",
       "</table>\n",
       "</div>"
      ],
      "text/plain": [
       "      id   label_text prediction_llava:7b\n",
       "0  49360  non-hateful         non-hateful\n",
       "1   7198      hateful             hateful\n",
       "2  92738      hateful               error\n",
       "3  50261      hateful               error\n",
       "4  43175      hateful         non-hateful"
      ]
     },
     "metadata": {},
     "output_type": "display_data"
    }
   ],
   "source": [
    "models_to_test = {\n",
    "    'llava:7b': classify_with_ollama\n",
    "}\n",
    "results_data = {model: [] for model in models_to_test}\n",
    "\n",
    "for model_name, classification_func in models_to_test.items():\n",
    "    print(f\"\\n--- Benchmarking model: {model_name} ---\")\n",
    "    predictions = []\n",
    "    for index, row in tqdm(df_sample.iterrows(), total=len(df_sample), desc=f\"Processing {model_name}\"):\n",
    "        if 'ollama' in classification_func.__name__:\n",
    "            pred = classification_func(model_name, row['img_path'], prompt_template)\n",
    "        else:\n",
    "            pred = classification_func(row['img_path'], prompt_template)\n",
    "        predictions.append(pred)\n",
    "    df_sample[f'prediction_{model_name}'] = predictions\n",
    "\n",
    "print(\"\\n--- Benchmark Complete! ---\")\n",
    "display(df_sample[['id', 'label_text'] + [f'prediction_{model}' for model in models_to_test.keys()]].head())\n",
    "\n"
   ]
  },
  {
   "cell_type": "code",
   "execution_count": 69,
   "id": "b88a7764",
   "metadata": {},
   "outputs": [],
   "source": [
    "ground_truth = df_sample['label_text']\n"
   ]
  },
  {
   "cell_type": "code",
   "execution_count": 70,
   "id": "926e12f5",
   "metadata": {},
   "outputs": [
    {
     "name": "stdout",
     "output_type": "stream",
     "text": [
      "\n",
      "--- Evaluation Report for: llava:7b ---\n",
      "              precision    recall  f1-score   support\n",
      "\n",
      "     hateful       0.49      0.45      0.47       125\n",
      " non-hateful       0.51      0.38      0.44       125\n",
      "\n",
      "   micro avg       0.50      0.42      0.45       250\n",
      "   macro avg       0.50      0.42      0.45       250\n",
      "weighted avg       0.50      0.42      0.45       250\n",
      "\n"
     ]
    }
   ],
   "source": [
    "from sklearn.metrics import classification_report\n",
    "\n",
    "for model_name in models_to_test.keys():\n",
    "    print(f\"\\n--- Evaluation Report for: {model_name} ---\")\n",
    "    model_predictions = df_sample[f'prediction_{model_name}']\n",
    "    report = classification_report(ground_truth, model_predictions, labels=['hateful', 'non-hateful'], zero_division=0)\n",
    "    print(report)"
   ]
  },
  {
   "cell_type": "code",
   "execution_count": 71,
   "id": "a69f2d95",
   "metadata": {},
   "outputs": [
    {
     "data": {
      "text/html": [
       "<div>\n",
       "<style scoped>\n",
       "    .dataframe tbody tr th:only-of-type {\n",
       "        vertical-align: middle;\n",
       "    }\n",
       "\n",
       "    .dataframe tbody tr th {\n",
       "        vertical-align: top;\n",
       "    }\n",
       "\n",
       "    .dataframe thead th {\n",
       "        text-align: right;\n",
       "    }\n",
       "</style>\n",
       "<table border=\"1\" class=\"dataframe\">\n",
       "  <thead>\n",
       "    <tr style=\"text-align: right;\">\n",
       "      <th></th>\n",
       "      <th>label_text</th>\n",
       "      <th>prediction_llava:7b</th>\n",
       "    </tr>\n",
       "  </thead>\n",
       "  <tbody>\n",
       "    <tr>\n",
       "      <th>0</th>\n",
       "      <td>non-hateful</td>\n",
       "      <td>non-hateful</td>\n",
       "    </tr>\n",
       "    <tr>\n",
       "      <th>1</th>\n",
       "      <td>hateful</td>\n",
       "      <td>hateful</td>\n",
       "    </tr>\n",
       "    <tr>\n",
       "      <th>2</th>\n",
       "      <td>hateful</td>\n",
       "      <td>error</td>\n",
       "    </tr>\n",
       "    <tr>\n",
       "      <th>3</th>\n",
       "      <td>hateful</td>\n",
       "      <td>error</td>\n",
       "    </tr>\n",
       "    <tr>\n",
       "      <th>4</th>\n",
       "      <td>hateful</td>\n",
       "      <td>non-hateful</td>\n",
       "    </tr>\n",
       "    <tr>\n",
       "      <th>...</th>\n",
       "      <td>...</td>\n",
       "      <td>...</td>\n",
       "    </tr>\n",
       "    <tr>\n",
       "      <th>245</th>\n",
       "      <td>hateful</td>\n",
       "      <td>non-hateful</td>\n",
       "    </tr>\n",
       "    <tr>\n",
       "      <th>246</th>\n",
       "      <td>hateful</td>\n",
       "      <td>non-hateful</td>\n",
       "    </tr>\n",
       "    <tr>\n",
       "      <th>247</th>\n",
       "      <td>hateful</td>\n",
       "      <td>non-hateful</td>\n",
       "    </tr>\n",
       "    <tr>\n",
       "      <th>248</th>\n",
       "      <td>non-hateful</td>\n",
       "      <td>non-hateful</td>\n",
       "    </tr>\n",
       "    <tr>\n",
       "      <th>249</th>\n",
       "      <td>hateful</td>\n",
       "      <td>hateful</td>\n",
       "    </tr>\n",
       "  </tbody>\n",
       "</table>\n",
       "<p>250 rows × 2 columns</p>\n",
       "</div>"
      ],
      "text/plain": [
       "      label_text prediction_llava:7b\n",
       "0    non-hateful         non-hateful\n",
       "1        hateful             hateful\n",
       "2        hateful               error\n",
       "3        hateful               error\n",
       "4        hateful         non-hateful\n",
       "..           ...                 ...\n",
       "245      hateful         non-hateful\n",
       "246      hateful         non-hateful\n",
       "247      hateful         non-hateful\n",
       "248  non-hateful         non-hateful\n",
       "249      hateful             hateful\n",
       "\n",
       "[250 rows x 2 columns]"
      ]
     },
     "metadata": {},
     "output_type": "display_data"
    }
   ],
   "source": [
    "columns_to_show = ['label_text'] + [col for col in df_sample.columns if 'prediction' in col]\n",
    "full_results_df = df_sample[columns_to_show]\n",
    "display(full_results_df)\n"
   ]
  },
  {
   "cell_type": "code",
   "execution_count": 72,
   "id": "69940cff",
   "metadata": {},
   "outputs": [],
   "source": [
    "full_results_df.to_csv('full_benchmark_results.csv', index=False)"
   ]
  }
 ],
 "metadata": {
  "kernelspec": {
   "display_name": ".venv",
   "language": "python",
   "name": "python3"
  },
  "language_info": {
   "codemirror_mode": {
    "name": "ipython",
    "version": 3
   },
   "file_extension": ".py",
   "mimetype": "text/x-python",
   "name": "python",
   "nbconvert_exporter": "python",
   "pygments_lexer": "ipython3",
   "version": "3.13.5"
  }
 },
 "nbformat": 4,
 "nbformat_minor": 5
}
